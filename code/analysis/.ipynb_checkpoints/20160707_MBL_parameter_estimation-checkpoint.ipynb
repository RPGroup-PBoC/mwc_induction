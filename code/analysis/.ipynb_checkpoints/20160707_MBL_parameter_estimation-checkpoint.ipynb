{
 "cells": [
  {
   "cell_type": "markdown",
   "metadata": {},
   "source": [
    "# Bayesian Parameter Estimation on MBL Data\n",
    "## Nathan Belliveau, Griffin Chure, Manuel Razo\n",
    "**July 7, 2016**"
   ]
  },
  {
   "cell_type": "code",
   "execution_count": 15,
   "metadata": {
    "collapsed": false
   },
   "outputs": [],
   "source": [
    "import numpy as np\n",
    "import pandas as pd\n",
    "import emcee\n",
    "import scipy.special\n",
    "import matplotlib.pyplot as plt\n",
    "import matplotlib.cm as cm\n",
    "import warnings\n",
    "import seaborn as sns\n",
    "import collections\n",
    "rc = {'lines.linewidth': 1.5,\n",
    "      'axes.labelsize' : 14,\n",
    "      'axes.titlesize' : 18,\n",
    "      'axes.facecolor' : 'EBEBEB',\n",
    "      'axes.edgecolor' : '000000',\n",
    "      'axes.linewidth' : 0.75,\n",
    "      'axes.frameon' : True,\n",
    "      'xtick.labelsize' : 11,\n",
    "      'ytick.labelsize' : 11,\n",
    "      'font.family' : 'Droid Sans',\n",
    "      'grid.linestyle' : ':',\n",
    "      'grid.color' : 'a6a6a6',\n",
    "      'mathtext.fontset' : 'stixsans',\n",
    "      'mathtext.sf' : 'sans'}\n",
    "plt.rc('text.latex', preamble=r'\\usepackage{sfmath}')\n",
    "plt.rc('mathtext', fontset='stixsans', sf='sans') \n",
    "sns.set_context('notebook', rc=rc)\n",
    "sns.set_style('darkgrid', rc=rc)\n",
    "sns.set_palette(\"deep\", color_codes=True)\n",
    "\n",
    "# Suppress future warnings\n",
    "warnings.simplefilter(action='ignore', category=FutureWarning)\n",
    "warnings.simplefilter(action='ignore', category=UserWarning)\n",
    "\n",
    "#------------------------------------------------------------------------------- \n",
    "%matplotlib notebook"
   ]
  },
  {
   "cell_type": "markdown",
   "metadata": {},
   "source": [
    "Our data consists of a set of fold-change in gene expression values from a set of experiments conducted at Woods Hole, MA at MBL Physiology. The purpose of this notebook is to perform a two-parameter fit on the active and inactive dissociation constants of the Lac repressor to IPTG. Using Bayes' rule, we can say that\n",
    "\n",
    "$$\n",
    "\\begin{align}\n",
    "P(\\{a\\} \\vert D, I) &\\propto P(D \\vert \\{a\\}, I) P(\\{a\\} \\vert I) \\\\\n",
    "& \\propto P(D \\vert K_a, K_i, I) P(K_a \\vert I) P(K_i \\vert I)\n",
    "\\end{align}\n",
    "$$"
   ]
  },
  {
   "cell_type": "markdown",
   "metadata": {},
   "source": [
    "where $\\{a\\}$ is the set of dissociation constants for the active and inactive repressors ($K_a$ and $K_i$ repsectively), $D$ are our data, and $I$ is the prior information we have with regards to the system. Note that in this case we are considering that the two dissociation constants are independent parameters. This is probably not correct as it would make logical sense that the ability to bind inducer in the active vs inactive state uses a similar binding pocket and are therefore related. For now, it is not obvious how these two parameters are related mathematically, so we will treat them as completely independent. We can be more explicity with the functional form of our posterior as follows: "
   ]
  },
  {
   "cell_type": "markdown",
   "metadata": {},
   "source": [
    "$$\n",
    "P(K_a, K_i \\vert D, I) \\propto \\prod\\limits_{i=1}^N \\exp\\left\\{\\frac{fc_i - fc(R, IPTG, \\Delta\\epsilon_r, K_a, K_i, \\epsilon_{ai}))^2}{\\sigma_i}\\right\\}\\frac{1}{K_a^{max} - K_a^{min}}\\cdot \\frac{1}{K_i^{max} - K_i^{min}}\\cdot \\frac{1}{\\sigma_i}\n",
    "$$"
   ]
  },
  {
   "cell_type": "markdown",
   "metadata": {},
   "source": [
    "where we have taken a uniform prior on the two dissociation constants. Using some of our physical intution, we known that a lower bound for the dissociation constant is that of the strongest non-covalent bond (biotin-streptavidin) and the upper bound would be Van der Waals interactions. "
   ]
  },
  {
   "cell_type": "markdown",
   "metadata": {},
   "source": [
    "## Defining the log posterior"
   ]
  },
  {
   "cell_type": "markdown",
   "metadata": {},
   "source": [
    "Below, we define the functions needed to perform our parameter estimation."
   ]
  },
  {
   "cell_type": "code",
   "execution_count": null,
   "metadata": {
    "collapsed": true
   },
   "outputs": [],
   "source": [
    " "
   ]
  },
  {
   "cell_type": "code",
   "execution_count": 16,
   "metadata": {
    "collapsed": true
   },
   "outputs": [],
   "source": [
    "# define a funciton to compute the fold change as a funciton of IPTG\n",
    "def pact(IPTG, Ka=88.4E-3, Ki=4.71E-3, epsilon=4):\n",
    "    '''\n",
    "    Returns the probability of a repressor being active as described by the MWC\n",
    "    model.\n",
    "    Parameter\n",
    "    ---------\n",
    "    IPTG : array-like.\n",
    "        concentrations of inducer on which to evaluate the function\n",
    "    Ka, Ki : float.\n",
    "        Dissociation constant of the active and inactive states respectively\n",
    "    epsilon : float.\n",
    "        energy difference between the active and the inactive state\n",
    "    Returns\n",
    "    -------\n",
    "    pact : float.\n",
    "        probability of a repressor of being in the active state. Active state is\n",
    "        defined as the state that can bind to the DNA.\n",
    "    '''\n",
    "    pact = (1 + IPTG / Ka)**2 / ((1 + IPTG / Ka)**2 + np.exp(-epsilon) * (1 + IPTG / Ki)**2)\n",
    "    return pact\n",
    "\n"
   ]
  },
  {
   "cell_type": "code",
   "execution_count": 17,
   "metadata": {
    "collapsed": true
   },
   "outputs": [],
   "source": [
    "def fold_change(IPTG, Ka=88.4E-3, Ki=4.71E-3, epsilon=4, R=11, epsilon_r=-13.9):\n",
    "    '''\n",
    "    Returns the gene expression fold change according to the thermodynamic model\n",
    "    with the extension that takes into account the effect of the inducer.\n",
    "    Parameter\n",
    "    ---------\n",
    "    IPTG : array-like.\n",
    "        concentrations of inducer on which to evaluate the function\n",
    "    Ka, Ki : float.\n",
    "        Dissociation constant of the active and inactive states respectively\n",
    "    epsilon : float.\n",
    "        energy difference between the active and the inactive state\n",
    "    R : array-like.\n",
    "        repressor copy number for each of the strains. The length of this array\n",
    "        should be equal to the IPTG array. If only one value of the repressor is\n",
    "        given it is asssume that all the data points should be evaluated with\n",
    "        the same repressor copy number\n",
    "    epsilon_r : array-like\n",
    "        repressor binding energy. The length of this array\n",
    "        should be equal to the IPTG array. If only one value of the binding\n",
    "        energy is given it is asssume that all the data points \n",
    "        should be evaluated with the same repressor copy number\n",
    "        \n",
    "    Returns\n",
    "    -------\n",
    "    fold-change : float.\n",
    "        gene expression fold change as dictated by the thermodynamic model.\n",
    "   '''\n",
    "    return 1 / (1 + 2 * R / 5E6 * pact(IPTG, Ka, Ki, epsilon) * \\\n",
    "            (1 + np.exp(-epsilon)) * np.exp(-epsilon_r))\n",
    " "
   ]
  },
  {
   "cell_type": "code",
   "execution_count": 32,
   "metadata": {
    "collapsed": false
   },
   "outputs": [],
   "source": [
    "def log_likelihood(param, pack):\n",
    "    \"\"\"\n",
    "    Computes the log likelihood.\n",
    "    \"\"\"\n",
    "   \n",
    "    #Unpack the parameters.\n",
    "    Ka, Ki, sigma = param\n",
    "    IPTG, fc, R, ep_r, ep_ai, _, _ = pack\n",
    "    #compute the fc.\n",
    "    fc_theo = fold_change(IPTG, Ka=Ka, Ki=Ki, epsilon=ep_ai, R=R, epsilon_r=ep_r) \n",
    "   \n",
    "    log_like =  -0.5*(np.sum((fc_theo - fc)**2 * sigma**-1))\n",
    "    return log_like\n",
    "   \n",
    "def log_post(param, pack):\n",
    "    IPTG, fc, R, ep_r, ep_ai, Kmin, Kmax = pack\n",
    "    Ka, Ki, sigma = param\n",
    "    if (Ka > Kmax) | (Ka < Kmin):\n",
    "        return -np.inf\n",
    "    elif (Ki > Kmax) | (Ki < Kmin):\n",
    "        return -np.inf\n",
    "    elif sigma < 0:\n",
    "        return -np.inf\n",
    "    else:\n",
    "        return -(len(IPTG) + 1) + log_likelihood(param, pack) \n",
    "\n",
    "    "
   ]
  },
  {
   "cell_type": "code",
   "execution_count": 33,
   "metadata": {
    "collapsed": false
   },
   "outputs": [],
   "source": [
    "#Load the data. \n",
    "data = pd.read_csv('../../data/mbl_2016/MBL_fc_data.csv')\n",
    "rbs = data[(data.strain=='1027') & (data.epsilon_r==-13.9)]\n",
    "\n",
    "#Define the packed values for simplicity\n",
    "Kmin = 1E-15\n",
    "Kmax = 1\n",
    "pack = [rbs.IPTG, rbs.fold_change, 130, -13.9, 4.5, Kmin, Kmax]\n",
    "\n",
    "\n",
    "#Define the parameters for emcee\n",
    "n_dim = 3 \n",
    "n_walkers = 500\n",
    "n_burn = 300\n",
    "n_steps = 500 \n",
    "p0 = np.empty((n_walkers, n_dim))\n",
    "p0[:,0] = np.random.uniform(Kmin, Kmax, n_walkers)\n",
    "p0[:,1] = np.random.uniform(Kmin, Kmax, n_walkers)\n",
    "p0[:,2] = np.random.uniform(1E-6, 1, n_walkers)\n",
    "\n",
    "\n"
   ]
  },
  {
   "cell_type": "code",
   "execution_count": 34,
   "metadata": {
    "collapsed": false
   },
   "outputs": [],
   "source": [
    "#Call the sampler. \n",
    "sampler = emcee.EnsembleSampler(n_walkers, n_dim, log_post,  args=(pack))"
   ]
  },
  {
   "cell_type": "code",
   "execution_count": 35,
   "metadata": {
    "collapsed": false
   },
   "outputs": [
    {
     "name": "stdout",
     "output_type": "stream",
     "text": [
      "emcee: Exception while calling your likelihood function:\n",
      "  params: [ 0.20357847  0.61916374  0.10960631]\n",
      "  args: [1      0.1000\n",
      "3      0.5000\n",
      "5      0.0050\n",
      "7      1.0000\n",
      "9      0.0750\n",
      "11     5.0000\n",
      "13     0.0100\n",
      "15     0.0000\n",
      "17     0.0250\n",
      "19     0.0500\n",
      "21     0.0010\n",
      "23     0.0001\n",
      "25     0.5000\n",
      "27     0.0001\n",
      "29     0.0100\n",
      "31     1.0000\n",
      "33     0.0000\n",
      "35     0.1000\n",
      "37     0.0050\n",
      "39     5.0000\n",
      "41     0.0750\n",
      "43     0.0250\n",
      "45     0.0500\n",
      "47     0.0010\n",
      "110    0.0750\n",
      "117    0.0000\n",
      "130    0.1000\n",
      "137    0.0050\n",
      "144    0.5000\n",
      "151    0.2500\n",
      "158    0.0500\n",
      "165    0.0250\n",
      "172    0.0100\n",
      "179    0.0010\n",
      "186    5.0000\n",
      "253    0.0010\n",
      "260    0.0250\n",
      "267    0.0750\n",
      "274    0.0100\n",
      "281    5.0000\n",
      "288    0.2500\n",
      "295    1.0000\n",
      "302    0.1000\n",
      "309    0.0050\n",
      "316    0.0000\n",
      "323    0.0500\n",
      "330    0.5000\n",
      "Name: IPTG, dtype: float64, 1      0.504109\n",
      "3      0.807032\n",
      "5      0.019234\n",
      "7      0.832826\n",
      "9      0.398970\n",
      "11     0.847355\n",
      "13     0.023627\n",
      "15     0.009866\n",
      "17     0.118540\n",
      "19     0.288941\n",
      "21     0.009517\n",
      "23     0.009021\n",
      "25     0.866005\n",
      "27     0.009079\n",
      "29     0.026934\n",
      "31     0.918753\n",
      "33     0.011387\n",
      "35     0.521053\n",
      "37     0.015642\n",
      "39     0.962190\n",
      "41     0.384757\n",
      "43     0.128607\n",
      "45     0.267651\n",
      "47     0.008708\n",
      "110    0.388807\n",
      "117    0.006733\n",
      "130    0.475767\n",
      "137    0.021559\n",
      "144    0.772782\n",
      "151    0.708814\n",
      "158    0.263773\n",
      "165    0.095877\n",
      "172    0.033651\n",
      "179    0.011315\n",
      "186    0.854617\n",
      "253    0.015482\n",
      "260    0.216675\n",
      "267    0.625447\n",
      "274    0.073539\n",
      "281    0.972758\n",
      "288    0.900993\n",
      "295    0.931121\n",
      "302    0.658770\n",
      "309    0.033615\n",
      "316    0.013535\n",
      "323    0.434510\n",
      "330    0.930456\n",
      "Name: fold_change, dtype: float64, 130, -13.9, 4.5, 1e-15, 1]\n",
      "  kwargs: {}\n",
      "  exception:\n"
     ]
    },
    {
     "name": "stderr",
     "output_type": "stream",
     "text": [
      "Traceback (most recent call last):\n",
      "  File \"/Users/gchure/anaconda/lib/python3.4/site-packages/emcee/ensemble.py\", line 505, in __call__\n",
      "    return self.f(x, *self.args, **self.kwargs)\n",
      "TypeError: log_post() takes 2 positional arguments but 8 were given\n"
     ]
    },
    {
     "ename": "TypeError",
     "evalue": "log_post() takes 2 positional arguments but 8 were given",
     "output_type": "error",
     "traceback": [
      "\u001b[0;31m---------------------------------------------------------------------------\u001b[0m",
      "\u001b[0;31mTypeError\u001b[0m                                 Traceback (most recent call last)",
      "\u001b[0;32m<ipython-input-35-c3bc79d66c9f>\u001b[0m in \u001b[0;36m<module>\u001b[0;34m()\u001b[0m\n\u001b[1;32m      1\u001b[0m \u001b[0;31m#Do the burn in\u001b[0m\u001b[0;34m\u001b[0m\u001b[0;34m\u001b[0m\u001b[0m\n\u001b[0;32m----> 2\u001b[0;31m \u001b[0mpos\u001b[0m\u001b[0;34m,\u001b[0m \u001b[0mprob\u001b[0m\u001b[0;34m,\u001b[0m \u001b[0mstate\u001b[0m \u001b[0;34m=\u001b[0m \u001b[0msampler\u001b[0m\u001b[0;34m.\u001b[0m\u001b[0mrun_mcmc\u001b[0m\u001b[0;34m(\u001b[0m\u001b[0mp0\u001b[0m\u001b[0;34m,\u001b[0m \u001b[0mn_burn\u001b[0m\u001b[0;34m,\u001b[0m \u001b[0mstorechain\u001b[0m\u001b[0;34m=\u001b[0m\u001b[0;32mFalse\u001b[0m\u001b[0;34m)\u001b[0m\u001b[0;34m\u001b[0m\u001b[0m\n\u001b[0m",
      "\u001b[0;32m/Users/gchure/anaconda/lib/python3.4/site-packages/emcee/sampler.py\u001b[0m in \u001b[0;36mrun_mcmc\u001b[0;34m(self, pos0, N, rstate0, lnprob0, **kwargs)\u001b[0m\n\u001b[1;32m    155\u001b[0m         \"\"\"\n\u001b[1;32m    156\u001b[0m         for results in self.sample(pos0, lnprob0, rstate0, iterations=N,\n\u001b[0;32m--> 157\u001b[0;31m                                    **kwargs):\n\u001b[0m\u001b[1;32m    158\u001b[0m             \u001b[0;32mpass\u001b[0m\u001b[0;34m\u001b[0m\u001b[0m\n\u001b[1;32m    159\u001b[0m         \u001b[0;32mreturn\u001b[0m \u001b[0mresults\u001b[0m\u001b[0;34m\u001b[0m\u001b[0m\n",
      "\u001b[0;32m/Users/gchure/anaconda/lib/python3.4/site-packages/emcee/ensemble.py\u001b[0m in \u001b[0;36msample\u001b[0;34m(self, p0, lnprob0, rstate0, blobs0, iterations, thin, storechain, mh_proposal)\u001b[0m\n\u001b[1;32m    196\u001b[0m         \u001b[0mblobs\u001b[0m \u001b[0;34m=\u001b[0m \u001b[0mblobs0\u001b[0m\u001b[0;34m\u001b[0m\u001b[0m\n\u001b[1;32m    197\u001b[0m         \u001b[0;32mif\u001b[0m \u001b[0mlnprob\u001b[0m \u001b[0;32mis\u001b[0m \u001b[0;32mNone\u001b[0m\u001b[0;34m:\u001b[0m\u001b[0;34m\u001b[0m\u001b[0m\n\u001b[0;32m--> 198\u001b[0;31m             \u001b[0mlnprob\u001b[0m\u001b[0;34m,\u001b[0m \u001b[0mblobs\u001b[0m \u001b[0;34m=\u001b[0m \u001b[0mself\u001b[0m\u001b[0;34m.\u001b[0m\u001b[0m_get_lnprob\u001b[0m\u001b[0;34m(\u001b[0m\u001b[0mp\u001b[0m\u001b[0;34m)\u001b[0m\u001b[0;34m\u001b[0m\u001b[0m\n\u001b[0m\u001b[1;32m    199\u001b[0m \u001b[0;34m\u001b[0m\u001b[0m\n\u001b[1;32m    200\u001b[0m         \u001b[0;31m# Check to make sure that the probability function didn't return\u001b[0m\u001b[0;34m\u001b[0m\u001b[0;34m\u001b[0m\u001b[0m\n",
      "\u001b[0;32m/Users/gchure/anaconda/lib/python3.4/site-packages/emcee/ensemble.py\u001b[0m in \u001b[0;36m_get_lnprob\u001b[0;34m(self, pos)\u001b[0m\n\u001b[1;32m    380\u001b[0m \u001b[0;34m\u001b[0m\u001b[0m\n\u001b[1;32m    381\u001b[0m         \u001b[0;31m# Run the log-probability calculations (optionally in parallel).\u001b[0m\u001b[0;34m\u001b[0m\u001b[0;34m\u001b[0m\u001b[0m\n\u001b[0;32m--> 382\u001b[0;31m         \u001b[0mresults\u001b[0m \u001b[0;34m=\u001b[0m \u001b[0mlist\u001b[0m\u001b[0;34m(\u001b[0m\u001b[0mM\u001b[0m\u001b[0;34m(\u001b[0m\u001b[0mself\u001b[0m\u001b[0;34m.\u001b[0m\u001b[0mlnprobfn\u001b[0m\u001b[0;34m,\u001b[0m \u001b[0;34m[\u001b[0m\u001b[0mp\u001b[0m\u001b[0;34m[\u001b[0m\u001b[0mi\u001b[0m\u001b[0;34m]\u001b[0m \u001b[0;32mfor\u001b[0m \u001b[0mi\u001b[0m \u001b[0;32min\u001b[0m \u001b[0mrange\u001b[0m\u001b[0;34m(\u001b[0m\u001b[0mlen\u001b[0m\u001b[0;34m(\u001b[0m\u001b[0mp\u001b[0m\u001b[0;34m)\u001b[0m\u001b[0;34m)\u001b[0m\u001b[0;34m]\u001b[0m\u001b[0;34m)\u001b[0m\u001b[0;34m)\u001b[0m\u001b[0;34m\u001b[0m\u001b[0m\n\u001b[0m\u001b[1;32m    383\u001b[0m \u001b[0;34m\u001b[0m\u001b[0m\n\u001b[1;32m    384\u001b[0m         \u001b[0;32mtry\u001b[0m\u001b[0;34m:\u001b[0m\u001b[0;34m\u001b[0m\u001b[0m\n",
      "\u001b[0;32m/Users/gchure/anaconda/lib/python3.4/site-packages/emcee/ensemble.py\u001b[0m in \u001b[0;36m__call__\u001b[0;34m(self, x)\u001b[0m\n\u001b[1;32m    503\u001b[0m     \u001b[0;32mdef\u001b[0m \u001b[0m__call__\u001b[0m\u001b[0;34m(\u001b[0m\u001b[0mself\u001b[0m\u001b[0;34m,\u001b[0m \u001b[0mx\u001b[0m\u001b[0;34m)\u001b[0m\u001b[0;34m:\u001b[0m\u001b[0;34m\u001b[0m\u001b[0m\n\u001b[1;32m    504\u001b[0m         \u001b[0;32mtry\u001b[0m\u001b[0;34m:\u001b[0m\u001b[0;34m\u001b[0m\u001b[0m\n\u001b[0;32m--> 505\u001b[0;31m             \u001b[0;32mreturn\u001b[0m \u001b[0mself\u001b[0m\u001b[0;34m.\u001b[0m\u001b[0mf\u001b[0m\u001b[0;34m(\u001b[0m\u001b[0mx\u001b[0m\u001b[0;34m,\u001b[0m \u001b[0;34m*\u001b[0m\u001b[0mself\u001b[0m\u001b[0;34m.\u001b[0m\u001b[0margs\u001b[0m\u001b[0;34m,\u001b[0m \u001b[0;34m**\u001b[0m\u001b[0mself\u001b[0m\u001b[0;34m.\u001b[0m\u001b[0mkwargs\u001b[0m\u001b[0;34m)\u001b[0m\u001b[0;34m\u001b[0m\u001b[0m\n\u001b[0m\u001b[1;32m    506\u001b[0m         \u001b[0;32mexcept\u001b[0m\u001b[0;34m:\u001b[0m\u001b[0;34m\u001b[0m\u001b[0m\n\u001b[1;32m    507\u001b[0m             \u001b[0;32mimport\u001b[0m \u001b[0mtraceback\u001b[0m\u001b[0;34m\u001b[0m\u001b[0m\n",
      "\u001b[0;31mTypeError\u001b[0m: log_post() takes 2 positional arguments but 8 were given"
     ]
    }
   ],
   "source": [
    "#Do the burn in \n",
    "pos, prob, state = sampler.run_mcmc(p0, n_burn, storechain=False)"
   ]
  },
  {
   "cell_type": "code",
   "execution_count": null,
   "metadata": {
    "collapsed": true
   },
   "outputs": [],
   "source": []
  }
 ],
 "metadata": {
  "kernelspec": {
   "display_name": "Python 3",
   "language": "python",
   "name": "python3"
  },
  "language_info": {
   "codemirror_mode": {
    "name": "ipython",
    "version": 3
   },
   "file_extension": ".py",
   "mimetype": "text/x-python",
   "name": "python",
   "nbconvert_exporter": "python",
   "pygments_lexer": "ipython3",
   "version": "3.4.4"
  }
 },
 "nbformat": 4,
 "nbformat_minor": 0
}
