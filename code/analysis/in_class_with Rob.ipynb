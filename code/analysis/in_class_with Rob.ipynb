{
 "cells": [
  {
   "cell_type": "markdown",
   "metadata": {},
   "source": [
    "# Import the important libraries\n",
    "## subtitle\n",
    "### sub sub title\n",
    "\n",
    "regular text"
   ]
  },
  {
   "cell_type": "code",
   "execution_count": 1,
   "metadata": {
    "collapsed": true
   },
   "outputs": [],
   "source": [
    "# Scientific computing\n",
    "import numpy as np\n",
    "\n",
    "# Data manipulation\n",
    "import pandas as pd\n",
    "\n",
    "# Plotting\n",
    "import matplotlib.pyplot as plt\n",
    "import seaborn as sns\n",
    "\n",
    "sns.set_palette('deep') # This is the color palette I like\n",
    "\n",
    "# The percentage is the magic to set how the plots are printed\n",
    "%matplotlib inline"
   ]
  },
  {
   "cell_type": "markdown",
   "metadata": {},
   "source": [
    "# Exploratory data analysis.\n",
    "Let's look at the data!"
   ]
  },
  {
   "cell_type": "code",
   "execution_count": 2,
   "metadata": {
    "collapsed": true
   },
   "outputs": [],
   "source": [
    "# Importing the data with Pandas\n",
    "df = pd.read_csv?"
   ]
  },
  {
   "cell_type": "code",
   "execution_count": null,
   "metadata": {
    "collapsed": true
   },
   "outputs": [],
   "source": [
    "df = pd.read_csv"
   ]
  },
  {
   "cell_type": "code",
   "execution_count": 3,
   "metadata": {
    "collapsed": false
   },
   "outputs": [
    {
     "data": {
      "text/html": [
       "<div>\n",
       "<table border=\"1\" class=\"dataframe\">\n",
       "  <thead>\n",
       "    <tr style=\"text-align: right;\">\n",
       "      <th></th>\n",
       "      <th>date</th>\n",
       "      <th>username</th>\n",
       "      <th>operator</th>\n",
       "      <th>binding_energy</th>\n",
       "      <th>rbs</th>\n",
       "      <th>repressors</th>\n",
       "      <th>IPTG_uM</th>\n",
       "      <th>mean_YFP_A</th>\n",
       "      <th>mean_YFP_bgcorr_A</th>\n",
       "      <th>fold_change_A</th>\n",
       "    </tr>\n",
       "  </thead>\n",
       "  <tbody>\n",
       "    <tr>\n",
       "      <th>0</th>\n",
       "      <td>20160804</td>\n",
       "      <td>mrazomej</td>\n",
       "      <td>O2</td>\n",
       "      <td>-13.9</td>\n",
       "      <td>auto</td>\n",
       "      <td>0</td>\n",
       "      <td>0.0</td>\n",
       "      <td>3512.623320</td>\n",
       "      <td>0.000000</td>\n",
       "      <td>0.000000</td>\n",
       "    </tr>\n",
       "    <tr>\n",
       "      <th>1</th>\n",
       "      <td>20160804</td>\n",
       "      <td>mrazomej</td>\n",
       "      <td>O2</td>\n",
       "      <td>-13.9</td>\n",
       "      <td>delta</td>\n",
       "      <td>0</td>\n",
       "      <td>0.0</td>\n",
       "      <td>19164.225851</td>\n",
       "      <td>15651.602531</td>\n",
       "      <td>1.000000</td>\n",
       "    </tr>\n",
       "    <tr>\n",
       "      <th>2</th>\n",
       "      <td>20160804</td>\n",
       "      <td>mrazomej</td>\n",
       "      <td>O2</td>\n",
       "      <td>-13.9</td>\n",
       "      <td>RBS1L</td>\n",
       "      <td>870</td>\n",
       "      <td>0.0</td>\n",
       "      <td>3624.474605</td>\n",
       "      <td>111.851286</td>\n",
       "      <td>0.007146</td>\n",
       "    </tr>\n",
       "    <tr>\n",
       "      <th>3</th>\n",
       "      <td>20160804</td>\n",
       "      <td>mrazomej</td>\n",
       "      <td>O2</td>\n",
       "      <td>-13.9</td>\n",
       "      <td>RBS1</td>\n",
       "      <td>610</td>\n",
       "      <td>0.0</td>\n",
       "      <td>3619.786265</td>\n",
       "      <td>107.162946</td>\n",
       "      <td>0.006847</td>\n",
       "    </tr>\n",
       "    <tr>\n",
       "      <th>4</th>\n",
       "      <td>20160804</td>\n",
       "      <td>mrazomej</td>\n",
       "      <td>O2</td>\n",
       "      <td>-13.9</td>\n",
       "      <td>RBS1027</td>\n",
       "      <td>130</td>\n",
       "      <td>0.0</td>\n",
       "      <td>3717.019527</td>\n",
       "      <td>204.396208</td>\n",
       "      <td>0.013059</td>\n",
       "    </tr>\n",
       "  </tbody>\n",
       "</table>\n",
       "</div>"
      ],
      "text/plain": [
       "       date  username operator  binding_energy      rbs  repressors  IPTG_uM  \\\n",
       "0  20160804  mrazomej       O2           -13.9     auto           0      0.0   \n",
       "1  20160804  mrazomej       O2           -13.9    delta           0      0.0   \n",
       "2  20160804  mrazomej       O2           -13.9    RBS1L         870      0.0   \n",
       "3  20160804  mrazomej       O2           -13.9     RBS1         610      0.0   \n",
       "4  20160804  mrazomej       O2           -13.9  RBS1027         130      0.0   \n",
       "\n",
       "     mean_YFP_A  mean_YFP_bgcorr_A  fold_change_A  \n",
       "0   3512.623320           0.000000       0.000000  \n",
       "1  19164.225851       15651.602531       1.000000  \n",
       "2   3624.474605         111.851286       0.007146  \n",
       "3   3619.786265         107.162946       0.006847  \n",
       "4   3717.019527         204.396208       0.013059  "
      ]
     },
     "execution_count": 3,
     "metadata": {},
     "output_type": "execute_result"
    }
   ],
   "source": [
    "# This is to read our data in a pandas data frame\n",
    "# The data was originally stored in a comma separated values format aka csv.\n",
    "df = pd.read_csv('../../data/flow_master.csv')\n",
    "\n",
    "# Let's print the data to look at it\n",
    "df.head()"
   ]
  },
  {
   "cell_type": "markdown",
   "metadata": {},
   "source": [
    "## Boolean indexing"
   ]
  },
  {
   "cell_type": "code",
   "execution_count": 4,
   "metadata": {
    "collapsed": false
   },
   "outputs": [
    {
     "data": {
      "text/html": [
       "<div>\n",
       "<table border=\"1\" class=\"dataframe\">\n",
       "  <thead>\n",
       "    <tr style=\"text-align: right;\">\n",
       "      <th></th>\n",
       "      <th>date</th>\n",
       "      <th>username</th>\n",
       "      <th>operator</th>\n",
       "      <th>binding_energy</th>\n",
       "      <th>rbs</th>\n",
       "      <th>repressors</th>\n",
       "      <th>IPTG_uM</th>\n",
       "      <th>mean_YFP_A</th>\n",
       "      <th>mean_YFP_bgcorr_A</th>\n",
       "      <th>fold_change_A</th>\n",
       "    </tr>\n",
       "  </thead>\n",
       "  <tbody>\n",
       "    <tr>\n",
       "      <th>0</th>\n",
       "      <td>20160804</td>\n",
       "      <td>mrazomej</td>\n",
       "      <td>O2</td>\n",
       "      <td>-13.9</td>\n",
       "      <td>auto</td>\n",
       "      <td>0</td>\n",
       "      <td>0.0</td>\n",
       "      <td>3512.623320</td>\n",
       "      <td>0.000000</td>\n",
       "      <td>0.000000</td>\n",
       "    </tr>\n",
       "    <tr>\n",
       "      <th>1</th>\n",
       "      <td>20160804</td>\n",
       "      <td>mrazomej</td>\n",
       "      <td>O2</td>\n",
       "      <td>-13.9</td>\n",
       "      <td>delta</td>\n",
       "      <td>0</td>\n",
       "      <td>0.0</td>\n",
       "      <td>19164.225851</td>\n",
       "      <td>15651.602531</td>\n",
       "      <td>1.000000</td>\n",
       "    </tr>\n",
       "    <tr>\n",
       "      <th>2</th>\n",
       "      <td>20160804</td>\n",
       "      <td>mrazomej</td>\n",
       "      <td>O2</td>\n",
       "      <td>-13.9</td>\n",
       "      <td>RBS1L</td>\n",
       "      <td>870</td>\n",
       "      <td>0.0</td>\n",
       "      <td>3624.474605</td>\n",
       "      <td>111.851286</td>\n",
       "      <td>0.007146</td>\n",
       "    </tr>\n",
       "    <tr>\n",
       "      <th>3</th>\n",
       "      <td>20160804</td>\n",
       "      <td>mrazomej</td>\n",
       "      <td>O2</td>\n",
       "      <td>-13.9</td>\n",
       "      <td>RBS1</td>\n",
       "      <td>610</td>\n",
       "      <td>0.0</td>\n",
       "      <td>3619.786265</td>\n",
       "      <td>107.162946</td>\n",
       "      <td>0.006847</td>\n",
       "    </tr>\n",
       "    <tr>\n",
       "      <th>4</th>\n",
       "      <td>20160804</td>\n",
       "      <td>mrazomej</td>\n",
       "      <td>O2</td>\n",
       "      <td>-13.9</td>\n",
       "      <td>RBS1027</td>\n",
       "      <td>130</td>\n",
       "      <td>0.0</td>\n",
       "      <td>3717.019527</td>\n",
       "      <td>204.396208</td>\n",
       "      <td>0.013059</td>\n",
       "    </tr>\n",
       "  </tbody>\n",
       "</table>\n",
       "</div>"
      ],
      "text/plain": [
       "       date  username operator  binding_energy      rbs  repressors  IPTG_uM  \\\n",
       "0  20160804  mrazomej       O2           -13.9     auto           0      0.0   \n",
       "1  20160804  mrazomej       O2           -13.9    delta           0      0.0   \n",
       "2  20160804  mrazomej       O2           -13.9    RBS1L         870      0.0   \n",
       "3  20160804  mrazomej       O2           -13.9     RBS1         610      0.0   \n",
       "4  20160804  mrazomej       O2           -13.9  RBS1027         130      0.0   \n",
       "\n",
       "     mean_YFP_A  mean_YFP_bgcorr_A  fold_change_A  \n",
       "0   3512.623320           0.000000       0.000000  \n",
       "1  19164.225851       15651.602531       1.000000  \n",
       "2   3624.474605         111.851286       0.007146  \n",
       "3   3619.786265         107.162946       0.006847  \n",
       "4   3717.019527         204.396208       0.013059  "
      ]
     },
     "execution_count": 4,
     "metadata": {},
     "output_type": "execute_result"
    }
   ],
   "source": [
    "# Let's find all the rows that contain O2 data\n",
    "df_O2 = df[df.operator=='O2'] # Assign to df_O2 all the rows that are O2\n",
    "\n",
    "# Print header of the new data frame df_O2\n",
    "df_O2.head()"
   ]
  },
  {
   "cell_type": "markdown",
   "metadata": {},
   "source": [
    "#  Guided struggle. Extract the RBS1027 data"
   ]
  },
  {
   "cell_type": "code",
   "execution_count": 5,
   "metadata": {
    "collapsed": false
   },
   "outputs": [
    {
     "data": {
      "text/html": [
       "<div>\n",
       "<table border=\"1\" class=\"dataframe\">\n",
       "  <thead>\n",
       "    <tr style=\"text-align: right;\">\n",
       "      <th></th>\n",
       "      <th>date</th>\n",
       "      <th>username</th>\n",
       "      <th>operator</th>\n",
       "      <th>binding_energy</th>\n",
       "      <th>rbs</th>\n",
       "      <th>repressors</th>\n",
       "      <th>IPTG_uM</th>\n",
       "      <th>mean_YFP_A</th>\n",
       "      <th>mean_YFP_bgcorr_A</th>\n",
       "      <th>fold_change_A</th>\n",
       "    </tr>\n",
       "  </thead>\n",
       "  <tbody>\n",
       "    <tr>\n",
       "      <th>4</th>\n",
       "      <td>20160804</td>\n",
       "      <td>mrazomej</td>\n",
       "      <td>O2</td>\n",
       "      <td>-13.9</td>\n",
       "      <td>RBS1027</td>\n",
       "      <td>130</td>\n",
       "      <td>0.0</td>\n",
       "      <td>3717.019527</td>\n",
       "      <td>204.396208</td>\n",
       "      <td>0.013059</td>\n",
       "    </tr>\n",
       "    <tr>\n",
       "      <th>12</th>\n",
       "      <td>20160804</td>\n",
       "      <td>mrazomej</td>\n",
       "      <td>O2</td>\n",
       "      <td>-13.9</td>\n",
       "      <td>RBS1027</td>\n",
       "      <td>130</td>\n",
       "      <td>0.1</td>\n",
       "      <td>3666.908863</td>\n",
       "      <td>148.489234</td>\n",
       "      <td>0.008699</td>\n",
       "    </tr>\n",
       "    <tr>\n",
       "      <th>20</th>\n",
       "      <td>20160804</td>\n",
       "      <td>mrazomej</td>\n",
       "      <td>O2</td>\n",
       "      <td>-13.9</td>\n",
       "      <td>RBS1027</td>\n",
       "      <td>130</td>\n",
       "      <td>5.0</td>\n",
       "      <td>4240.010601</td>\n",
       "      <td>800.582704</td>\n",
       "      <td>0.045769</td>\n",
       "    </tr>\n",
       "    <tr>\n",
       "      <th>28</th>\n",
       "      <td>20160804</td>\n",
       "      <td>mrazomej</td>\n",
       "      <td>O2</td>\n",
       "      <td>-13.9</td>\n",
       "      <td>RBS1027</td>\n",
       "      <td>130</td>\n",
       "      <td>10.0</td>\n",
       "      <td>5366.244059</td>\n",
       "      <td>1951.434974</td>\n",
       "      <td>0.111151</td>\n",
       "    </tr>\n",
       "    <tr>\n",
       "      <th>36</th>\n",
       "      <td>20160804</td>\n",
       "      <td>mrazomej</td>\n",
       "      <td>O2</td>\n",
       "      <td>-13.9</td>\n",
       "      <td>RBS1027</td>\n",
       "      <td>130</td>\n",
       "      <td>25.0</td>\n",
       "      <td>9264.452797</td>\n",
       "      <td>5909.675420</td>\n",
       "      <td>0.334437</td>\n",
       "    </tr>\n",
       "  </tbody>\n",
       "</table>\n",
       "</div>"
      ],
      "text/plain": [
       "        date  username operator  binding_energy      rbs  repressors  IPTG_uM  \\\n",
       "4   20160804  mrazomej       O2           -13.9  RBS1027         130      0.0   \n",
       "12  20160804  mrazomej       O2           -13.9  RBS1027         130      0.1   \n",
       "20  20160804  mrazomej       O2           -13.9  RBS1027         130      5.0   \n",
       "28  20160804  mrazomej       O2           -13.9  RBS1027         130     10.0   \n",
       "36  20160804  mrazomej       O2           -13.9  RBS1027         130     25.0   \n",
       "\n",
       "     mean_YFP_A  mean_YFP_bgcorr_A  fold_change_A  \n",
       "4   3717.019527         204.396208       0.013059  \n",
       "12  3666.908863         148.489234       0.008699  \n",
       "20  4240.010601         800.582704       0.045769  \n",
       "28  5366.244059        1951.434974       0.111151  \n",
       "36  9264.452797        5909.675420       0.334437  "
      ]
     },
     "execution_count": 5,
     "metadata": {},
     "output_type": "execute_result"
    }
   ],
   "source": [
    "df_O2_1027 = df_O2[df_O2.rbs=='RBS1027']\n",
    "df_O2_1027.head()"
   ]
  },
  {
   "cell_type": "markdown",
   "metadata": {},
   "source": [
    "# Time to plot b*tches "
   ]
  },
  {
   "cell_type": "code",
   "execution_count": 6,
   "metadata": {
    "collapsed": false
   },
   "outputs": [
    {
     "data": {
      "text/plain": [
       "<matplotlib.legend.Legend at 0x1119769e8>"
      ]
     },
     "execution_count": 6,
     "metadata": {},
     "output_type": "execute_result"
    },
    {
     "data": {
      "image/png": "[encoded data removed]",
      "text/plain": [
       "<matplotlib.figure.Figure at 0x111976908>"
      ]
     },
     "metadata": {},
     "output_type": "display_data"
    }
   ],
   "source": [
    "plt.semilogx(df_O2_1027.IPTG_uM, df_O2_1027.fold_change_A,\n",
    "             'o', label='O2 - R=130')\n",
    "plt.xlabel('IPTG ($\\mu$M)')\n",
    "plt.ylabel('fold-change')\n",
    "plt.legend(loc='upper left')"
   ]
  },
  {
   "cell_type": "markdown",
   "metadata": {},
   "source": [
    "# Plotting mean and standard error of the mean. "
   ]
  },
  {
   "cell_type": "code",
   "execution_count": 7,
   "metadata": {
    "collapsed": false
   },
   "outputs": [
    {
     "data": {
      "text/plain": [
       "array([  0.00000000e+00,   1.00000000e-01,   5.00000000e+00,\n",
       "         1.00000000e+01,   2.50000000e+01,   5.00000000e+01,\n",
       "         7.50000000e+01,   1.00000000e+02,   5.00000000e+02,\n",
       "         1.00000000e+03,   5.00000000e+03,   2.50000000e+02])"
      ]
     },
     "execution_count": 7,
     "metadata": {},
     "output_type": "execute_result"
    }
   ],
   "source": [
    "# To find the unique values in a column of our data frame we use the command\n",
    "# unique\n",
    "IPTG = df_O2_1027.IPTG_uM.unique()\n",
    "\n",
    "# Let's print it\n",
    "IPTG"
   ]
  },
  {
   "cell_type": "code",
   "execution_count": 8,
   "metadata": {
    "collapsed": true
   },
   "outputs": [],
   "source": [
    "# Let's initialize arrays to save\n",
    "# 1) Mean fold change\n",
    "# 2) S.D. of fold change\n",
    "# 3) number of data points\n",
    "# For each of the concentrations\n",
    "mean_fc = np.zeros_like(IPTG) # to store the mean fc\n",
    "sd_fc = np.zeros_like(IPTG) # to store the sd of fc\n",
    "num_fc = np.zeros_like(IPTG) # to store the number of data points"
   ]
  },
  {
   "cell_type": "code",
   "execution_count": 9,
   "metadata": {
    "collapsed": false
   },
   "outputs": [
    {
     "name": "stdout",
     "output_type": "stream",
     "text": [
      "0 0.0\n",
      "1 0.1\n",
      "2 5.0\n",
      "3 10.0\n",
      "4 25.0\n",
      "5 50.0\n",
      "6 75.0\n",
      "7 100.0\n",
      "8 500.0\n",
      "9 1000.0\n",
      "10 5000.0\n",
      "11 250.0\n"
     ]
    }
   ],
   "source": [
    "# Loop through each IPTG concentrations. Extract the data, compute the mean, SD\n",
    "# and count the number of data points\n",
    "for i, c in enumerate(IPTG):\n",
    "    print(i, c)\n",
    "    # First step: Extract the data\n",
    "    df_tmp = df_O2_1027[df_O2_1027.IPTG_uM==c].fold_change_A\n",
    "    # Second step: compute mean fc and store it\n",
    "    mean_fc[i] = df_tmp.mean()\n",
    "    # Third step: compute standard deviation and store it\n",
    "    sd_fc[i] = df_tmp.std()\n",
    "    # Fourth and last step: count the number of data points and store them\n",
    "    num_fc[i] = len(df_tmp)"
   ]
  },
  {
   "cell_type": "markdown",
   "metadata": {},
   "source": [
    "Now that we have the mean and standard deviation, let's repeat the plot with error bars!"
   ]
  },
  {
   "cell_type": "code",
   "execution_count": 10,
   "metadata": {
    "collapsed": false
   },
   "outputs": [
    {
     "data": {
      "text/plain": [
       "<matplotlib.text.Text at 0x11513b908>"
      ]
     },
     "execution_count": 10,
     "metadata": {},
     "output_type": "execute_result"
    },
    {
     "data": {
      "image/png": "[encoded data removed]",
      "text/plain": [
       "<matplotlib.figure.Figure at 0x114c354e0>"
      ]
     },
     "metadata": {},
     "output_type": "display_data"
    }
   ],
   "source": [
    "plt.errorbar(IPTG, mean_fc, yerr=sd_fc / np.sqrt(num_fc), \n",
    "            fmt='o')\n",
    "plt.xscale('log') # That changes the x axis to log scale\n",
    "plt.xlabel('IPTG ($\\mu$M)')\n",
    "plt.ylabel('fold-change')"
   ]
  },
  {
   "cell_type": "markdown",
   "metadata": {
    "collapsed": true
   },
   "source": [
    "#  Defining the functions for the theoretical fold-change"
   ]
  },
  {
   "cell_type": "code",
   "execution_count": 16,
   "metadata": {
    "collapsed": true
   },
   "outputs": [],
   "source": [
    "# Define the function to compute p_active as dictated by the MWC model\n",
    "def pact(IPTG, ea, ei, epsilon=4.5):\n",
    "    '''\n",
    "    Returns the probability of a repressor being in the active state as\n",
    "    described by the MWC model.\n",
    "    Parameters\n",
    "    ----------\n",
    "    IPTG : Concentration of inducer\n",
    "    ea, ei : inducer binding energies to the repressor in the active and\n",
    "    inactive state respectively\n",
    "    epsilon : energy difference between active and inactive state\n",
    "    '''\n",
    "    pact = (1 + IPTG * np.exp(-ea))**2 / \\\n",
    "    ((1 + IPTG * np.exp(-ea))**2 + np.exp(-epsilon) * (1 + IPTG * np.exp(-ei))**2)\n",
    "    \n",
    "    return pact"
   ]
  },
  {
   "cell_type": "code",
   "execution_count": 17,
   "metadata": {
    "collapsed": true
   },
   "outputs": [],
   "source": [
    "# Define the function to compute the fold-change in gene expression.\n",
    "def fold_change(IPTG, ea, ei, R, epsilon_R, epsilon=4.5):\n",
    "    '''\n",
    "    Returns the fold-change in gene expression for a simple-repression\n",
    "    architecture.\n",
    "    Parameters\n",
    "    ----------\n",
    "    IPTG : Concentration of inducer\n",
    "    ea, ei : inducer binding energies to the repressor in the active and\n",
    "    inactive state respectively\n",
    "    epsilon : energy difference between active and inactive state\n",
    "    R : repressor copy number\n",
    "    epsilon_r : binding energy of the repressor to the DNA\n",
    "    '''\n",
    "    fold_change = 1 / (1 + pact(IPTG, ea, ei, epsilon) *\\\n",
    "                       R / 4.6E6 * np.exp(-epsilon_R))\n",
    "    \n",
    "    return fold_change"
   ]
  },
  {
   "cell_type": "markdown",
   "metadata": {},
   "source": [
    "Let's test these functions by plotting the fold-change for some parameter values."
   ]
  },
  {
   "cell_type": "code",
   "execution_count": 18,
   "metadata": {
    "collapsed": true
   },
   "outputs": [],
   "source": [
    "# Defining the parameters for the function\n",
    "R = 130 # repressors / cell\n",
    "epsilon_R = -13.9 # kBT\n",
    "ea = 5 # kBT\n",
    "ei = -1 # kBT\n",
    "\n",
    "# Define range of IPTG in log-scale\n",
    "IPTG_array = np.logspace(-1, 4, 100) # µM\n",
    "\n",
    "# Let's compute the fold-change using these parameters\n",
    "fc_thry = fold_change(IPTG=IPTG_array, ea=ea, ei=ei, R=R, epsilon_R=epsilon_R)"
   ]
  },
  {
   "cell_type": "markdown",
   "metadata": {},
   "source": [
    "Let's now plot the fold-change!!"
   ]
  },
  {
   "cell_type": "code",
   "execution_count": 19,
   "metadata": {
    "collapsed": false
   },
   "outputs": [
    {
     "data": {
      "text/plain": [
       "<matplotlib.text.Text at 0x1154120b8>"
      ]
     },
     "execution_count": 19,
     "metadata": {},
     "output_type": "execute_result"
    },
    {
     "data": {
      "image/png": "[encoded data removed]",
      "text/plain": [
       "<matplotlib.figure.Figure at 0x114c52588>"
      ]
     },
     "metadata": {},
     "output_type": "display_data"
    }
   ],
   "source": [
    "# Plot IPTG vs fold-change\n",
    "plt.plot(IPTG_array, fc_thry)\n",
    "plt.xscale('log') # That changes the x axis to log scale\n",
    "plt.xlabel('IPTG ($\\mu$M)')\n",
    "plt.ylabel('fold-change')"
   ]
  },
  {
   "cell_type": "markdown",
   "metadata": {},
   "source": [
    "# Defining the log posterior $\\ln P(\\varepsilon \\mid D)$ "
   ]
  },
  {
   "cell_type": "code",
   "execution_count": null,
   "metadata": {
    "collapsed": true
   },
   "outputs": [],
   "source": [
    "def log_post(param, indep_var, dep_var):\n",
    "    '''\n",
    "    \n",
    "    '''"
   ]
  }
 ],
 "metadata": {
  "anaconda-cloud": {},
  "kernelspec": {
   "display_name": "Python [default]",
   "language": "python",
   "name": "python3"
  },
  "language_info": {
   "codemirror_mode": {
    "name": "ipython",
    "version": 3
   },
   "file_extension": ".py",
   "mimetype": "text/x-python",
   "name": "python",
   "nbconvert_exporter": "python",
   "pygments_lexer": "ipython3",
   "version": "3.5.2"
  }
 },
 "nbformat": 4,
 "nbformat_minor": 2
}
