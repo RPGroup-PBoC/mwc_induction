{
 "cells": [
  {
   "cell_type": "code",
   "execution_count": 9,
   "metadata": {
    "collapsed": true
   },
   "outputs": [],
   "source": [
    "# Our numerical workhorses\n",
    "import numpy as np\n",
    "import pandas as pd\n",
    "import scipy.special\n",
    "\n",
    "import numdifftools as ndt # to comput the Hessian matrix\n",
    "\n",
    "# Plotting libraries\n",
    "import matplotlib.pyplot as plt\n",
    "import matplotlib.cm as cm\n",
    "import seaborn as sns\n",
    "\n",
    "\n",
    "# Magic function to make matplotlib inline; other style specs must come AFTER\n",
    "%matplotlib inline\n",
    "\n",
    "# This enables high res graphics inline (only use with static plots (non-Bokeh))\n",
    "# SVG is preferred, but there is a bug in Jupyter with vertical lines\n",
    "%config InlineBackend.figure_formats = {'png', 'retina'}\n",
    "\n",
    "rc={'lines.linewidth': 2, \n",
    "    'axes.labelsize' : 16, \n",
    "    'axes.titlesize' : 18,\n",
    "    'axes.facecolor' : 'F4F3F6',\n",
    "    'axes.edgecolor' : '000000',\n",
    "    'axes.linewidth' : 1.2,\n",
    "    'xtick.labelsize' : 13,\n",
    "    'ytick.labelsize' : 13,\n",
    "    'grid.linestyle' : ':',\n",
    "    'grid.color' : 'a6a6a6'}\n",
    "\n",
    "sns.set_context('notebook', rc=rc)\n",
    "sns.set_style('darkgrid', rc=rc)\n",
    "sns.set_palette(\"deep\", color_codes=True)\n",
    "\n",
    "# Suppress future warnings\n",
    "warnings.simplefilter(action='ignore', category=FutureWarning)\n",
    "warnings.simplefilter(action='ignore', category=UserWarning)"
   ]
  },
  {
   "cell_type": "markdown",
   "metadata": {},
   "source": [
    "# Bayesian Hierarchical model\n",
    "\n",
    "In order to obtain the MWC parameters given the fold-change measurements Manuel took at MBL and a credible region on such parameters we will use a Bayesian hierarchical model to fit each individual data-set."
   ]
  },
  {
   "cell_type": "markdown",
   "metadata": {},
   "source": [
    "## The MWC theory of LacI IPTG induction\n",
    "Our theoretical model dictates that the fold change in gene expression is given by\n",
    "\\begin{equation}\n",
    "    fc = \\frac{1}{1 + \\frac{2R p_{act}(C)}{N_{NS}} \\left( 1 + e^{-\\beta \\Delta \\epsilon_{ai}} \\right)  e^{-\\beta \\Delta \\epsilon_r}},\n",
    "\\end{equation}\n",
    "where $p_{act}(C)$ is given by\n",
    "\\begin{equation}\n",
    "    p_{act}(C) = \\frac{\\left( 1 + C e^{\\epsilon_A}\\right)^2}{\\left( 1 + C e^{\\epsilon_A}\\right)^2 + e^{-\\beta \\epsilon_{ai}} \\left( 1 + C e^{\\epsilon_I}\\right)^2}.\n",
    "\\end{equation}\n",
    "\n",
    "We define $\\epsilon_A = -\\ln K_A$ and $\\epsilon_I = -\\ln K_I$ for convenience. "
   ]
  },
  {
   "cell_type": "markdown",
   "metadata": {},
   "source": [
    "## Setting up the hierarchical model\n",
    "Recalling that our objective is to infer the values of the dissociation constants $\\mathbf{K} = (K_A, K_I)$ in the MWC model, let's think about the data that we have.\n",
    "\n",
    "Our data consists of fold-change measurements done with different operators, different repressor copy numbers and different IPTG concentrations. On top of that we have multiple *biological replicas* performed in different days.\n",
    "\n",
    "On the one hand, to find *the most representative parameters* for all the data we could simply **pool the data all together** and perform a global fit. But that simple act of pooling together the data implies strong assumptions. It assumes that the slight experimental/biological/paranormal differences are irrelevant and all the data was generated equally.\n",
    "\n",
    "On the other hand we could take the other extreme point of view in which **each data-set is completely independent of the rest**. Fit a single parameter for each strain on each different day. But yet again this strategy implies different assumptions with their own caveats because if we believe in the theory the parameters should be in principle the same for all the strains and the biological replicas should be not very different from each other.\n",
    "\n",
    "A *Bayesian hierarchical model* represents arguably the best of both worlds. In a hierarchical model each data set $d_i$ is assumed to have its own set of parameters $\\mathbf{K}_i$ drawn from a distribution $P(\\mathbf{K}_i \\mid \\mathbf{Q})$, where $\\mathbf{Q} = (Q_A, Q_I)$ are the so-called *hyper-parameters*. One can think of the hyper-parameters as the most probable global parameter. On each experiment a set of parameters $\\mathbf{K}$ is chosen from a distribution centered at these hyper-parameters.\n",
    "\n",
    "I think (and that is part of the modeling decisions we need to make as scientists) that the most natural way of grouping the data is by single strain, single day with all IPTG concentrations. In other words we define as a \"data set\" the set of fold-changes measured for a single strain on a specific day. If we assume that the day-to-day variability and strian-to-strain variability gives small differences on th eparameters $\\mathbf{K}$, we can model this variability by saying that the parameters for each data set are drawn out of a probability distribution\n",
    "\\begin{equation}\n",
    "\\mathbf{K} \\sim P(\\mathbf{K} \\mid \\mathbf{Q})\n",
    "\\end{equation}\n",
    "\n",
    "Assuming this implies that we are set to find the set of parameters $\\kappa = (\\mathbf{K}_1, \\mathbf{K}_2, \\ldots)$ for each individual experiment, plus a hyper-parameter $\\mathbf{Q} = (Q_A, Q_I)$.\n",
    "\n",
    "By Bayes theorem this would imply that\n",
    "\\begin{equation}\n",
    "P(\\mathbf{Q}, \\kappa \\mid D, I) \\propto P(D \\mid \\kappa, \\mathbf{Q}, I) \\cdot P(\\mathbf{Q}, \\kappa \\mid I)\n",
    "\\end{equation}.\n",
    "\n",
    "A single data set $d_i \\in D$ does not depend directly on the hyperparameters $\\mathbf{Q}$, but only on th sample parameters $\\mathbf{K}_i$. This implies that\n",
    "\\begin{equation}\n",
    "P(D \\mid \\kappa, \\mathbf{Q}, I) = \\prod_{i = 1}^n P(d_i \\mid \\mathbf{K}_i, I),\n",
    "\\end{equation}\n",
    "where $n = \\lvert D \\rvert$ is the number of independent data sets.\n",
    "\n",
    "The prior $P(\\mathbf{Q}, \\kappa \\mid I)$ can be split into two terms using the definition of conditional probability\n",
    "\\begin{equation}\n",
    "P(\\mathbf{Q}, \\kappa \\mid I) = P(\\kappa \\mid \\mathbf{Q}, I) \\cdot P(\\mathbf{Q} \\mid I).\n",
    "\\end{equation}\n",
    "\n",
    "Putting these terms together gives the posterior we would like to compute\n",
    "\\begin{equation}\n",
    "P(\\mathbf{Q}, \\kappa \\mid D, I) \\propto \\prod_{i = 1}^n P(d_i \\mid \\mathbf{K}_i, I) \\cdot P(\\kappa \\mid \\mathbf{Q}, I) \\cdot P(\\mathbf{Q} \\mid I).\n",
    "\\end{equation}\n",
    "\n",
    "This posterior is in fat our **full hierarchical model**."
   ]
  },
  {
   "cell_type": "markdown",
   "metadata": {},
   "source": [
    "## Defining each of the terms\n",
    "\n",
    "### The likelihood\n",
    "For a single data set $d_i$ we have the following dpendent and independent variables:\n",
    "\n",
    "**independent variables**\n",
    "\\begin{equation}\n",
    "\\left\\{ R^{(i)}, \\Delta\\epsilon_r^{(i)}, \\left[ C_1, C_2, \\ldots, C_l \\right] \\right\\},\n",
    "\\end{equation}\n",
    "where $R_i$ is the number of repressors, $\\Delta \\epsilon_r$ is the binding energy and $C_i$ are the $l$ IPTG concentrations measured experimentally.\n",
    "\n",
    "**dependent variables**\n",
    "\\begin{equation}\n",
    "\\left\\{ \\left[ fc_1, fc_2, \\ldots, fc_l \\right] \\right\\},\n",
    "\\end{equation}\n",
    "the full set of fold-changes as measured with the flow cytometer.\n",
    "\n",
    "If as before we were to assume the errors $(fc_{exp} - fc_{theory})$ are normally distributed I can think of 3 forms to handle the errors:\n",
    "1. Global constant error $\\sigma$ independent of IPTG concentration and strain\n",
    "2. IPTG dependent error where we would have a set $\\mathbf{\\sigma} = (\\sigma_1, \\ldots, \\sigma_l)$ for each of the IPTG concentrations used in the experiment.\n",
    "3. IPTG and strain dependent error where we would have an error associated with each concentration of IPTG and with each strain (meaning each unique repressor copy number and binding energy)\n",
    "\\begin{bmatrix}\n",
    "    \\sigma_{11} & \\sigma_{12} & \\sigma_{13} & \\dots  & \\sigma_{1l} \\\\\n",
    "    \\sigma_{21} & \\sigma_{22} & \\sigma_{23} & \\dots  & \\sigma_{2l} \\\\\n",
    "    \\vdots & \\vdots & \\vdots & \\ddots & \\vdots \\\\\n",
    "    \\sigma_{m1} & \\sigma_{m2} & \\sigma_{m3} & \\dots  & \\sigma_{ml}\n",
    "\\end{bmatrix}\n",
    "where $m$ is the number of independent strains.\n",
    "\n",
    "Let's first implement the simplest approach. We will assume we have a constant error over all concentrations and all strains. This means that we can write\n",
    "\\begin{equation}\n",
    "P(d_i \\mid \\mathbf{K}_i, \\sigma, I) = \\left( 2 \\pi \\sigma^2 \\right)^{-l / 2} \\prod_{j = 1}^l \\exp \\left\\{ - \\frac{\\left( fc_{exp}^{(ij)} -  fc_{thry}^{(ij)} \\right)^2}{2 \\sigma^2} \\right\\},\n",
    "\\end{equation}\n",
    "where again $l$ is the number of IPTG concentrations, the superscript $(ij)$ indicates the $i$th data set and the $j$th IPTG concentration respectively and the $fc_{thry}^{(ij)} = fc\\left(\\epsilon_A^{(i)}, \\epsilon_I^{(i)}, R^{(i)}, \\Delta\\epsilon_r^{(i)}, C^{(j)} \\right)$ is the theoretical fold change given the set of indpedendent parameters."
   ]
  },
  {
   "cell_type": "markdown",
   "metadata": {},
   "source": [
    "### The probability $P(\\mathbf{K} \\mid \\mathbf{Q}, I)$\n",
    "For the probability $P(\\mathbf{K} \\mid \\mathbf{Q}, I)$ we will assume a simple bivariate Gaussian centered at $\\mathbf{Q}$, the hyper-parameter.\n",
    "Again here we face a new modeling decision with respect to the error. From the analytical approach we saw that the parameters $\\epsilon_A$ and $\\epsilon_I$ are not independent. Therefore the bivariate Gaussian should include a covariance term $\\sigma_{AI} = cov\\left[ \\epsilon_A, \\epsilon_I \\right] \\neq 0$.\n",
    "We will choose to include this term, therefore we will have\n",
    "\\begin{equation}\n",
    "P(\\mathbf{K}_i \\mid \\mathbf{Q}, \\mathbf{\\Sigma}, I) = \\frac{1}{\\sqrt{(2\\pi)^2 \\lvert \\mathbf{\\Sigma} \\rvert}} \\exp \\left\\{ -\\frac{1}{2} (\\mathbf{K}_i - \\mathbf{Q})^T \\mathbf{\\Sigma}^{-1} (\\mathbf{K}_i - \\mathbf{Q}) \\right\\},\n",
    "\\end{equation}\n",
    "where $\\mathbf{\\Sigma}$ is the covariance matrix\n",
    "\\begin{equation}\n",
    "\\mathbf{\\Sigma} = \\left[ \\begin{array}{cc} \\sigma_{A} & \\sigma_{AI} \\\\ \\sigma_{AI} & \\sigma_{I} \\end{array} \\right],\n",
    "\\end{equation}\n",
    "$\\sigma_A$, and $\\sigma_I$ are the standard deviations associated with the Gaussian distribution from which each data set samples their paramteres $\\mathbf{K}_i $.\n",
    "\n",
    "So the full set of parameters, assuming each data set is independent would have a distribution\n",
    "\\begin{align}\n",
    "P(\\kappa \\mid \\mathbf{Q}, I) &= \\prod_{i=1}^n P(\\mathbf{K}_i \\mid \\mathbf{Q}, I)\n",
    "&= (2\\pi \\lvert \\Sigma \\rvert)^{-\\frac{n}{2}} \\prod_{i=1}^n \\exp \\left\\{ -\\frac{1}{2} (\\mathbf{K}_i - \\mathbf{Q})^T \\mathbf{\\Sigma}^{-1} (\\mathbf{K}_i - \\mathbf{Q}) \\right\\}\n",
    "\\end{align}"
   ]
  },
  {
   "cell_type": "markdown",
   "metadata": {},
   "source": [
    "### The prior\n",
    "\n",
    "We have come a long way from the original prior $P(\\mathbf{Q} \\mid I)$. We now have significantly many more parameters to fit for.\n",
    "For simplicity we will assume that all the priors are indpendent, and given the nature of the variables we will assign to all of them a Jeffreys prior. Listing the parameters we have\n",
    "\\begin{equation}\n",
    "P(\\mathbf{Q}, \\kappa, \\sigma_{AI}) \\propto \\prod_{i=1}^n \\left[ \\frac{1}{\\epsilon_A^{(i)}} \\cdot \\frac{1}{\\epsilon_I^{(i)}} \\right] \\cdot \\frac{1}{\\sigma} \\cdot \\frac{1}{\\sigma_A} \\cdot \\frac{1}{\\sigma_I} \\cdot \\frac{1}{\\sigma_{AI}}. \n",
    "\\end{equation}\n",
    "\n",
    "Time to put everything together!"
   ]
  },
  {
   "cell_type": "markdown",
   "metadata": {},
   "source": [
    "The full posterior looks like\n",
    "\\begin{equation}\n",
    "P(\\mathbf{Q}, \\kappa, \\sigma, \\mathbf{\\Sigma} \\mid D, I) \\propto \\prod_{i=1}^n \\frac{1}{\\sigma^l} \\exp \\left\\{ - \\frac{\\sum_{j=1}^l \\left( fc_{exp}^{(ij)} -  fc_{thry}^{(ij)} \\right)^2}{2 \\sigma^2} \\right\\} \\cdot \\prod_{i=1}^n \\frac{1}{\\sqrt{\\lvert \\mathbf{\\Sigma} \\rvert}} \\exp \\left\\{ -\\frac{1}{2} (\\mathbf{K}_i - \\mathbf{Q})^T \\mathbf{\\Sigma}^{-1} (\\mathbf{K}_i - \\mathbf{Q}) \\right\\} \\cdot \\prod_{i=1}^n \\left[ \\frac{1}{\\epsilon_A^{(i)}} \\cdot \\frac{1}{\\epsilon_I^{(i)}} \\right] \\cdot \\frac{1}{\\epsilon_A} \\cdot \\frac{1}{\\epsilon_I} \\cdot \\frac{1}{\\sigma} \\cdot \\frac{1}{\\sigma_A^*} \\cdot \\frac{1}{\\sigma_I^*} \\cdot \\frac{1}{\\sigma_{AI}},\n",
    "\\end{equation}\n",
    "where $ \\mathbf{Q} = (\\epsilon_A^*,\\epsilon_I^*)$\n",
    "\n",
    "Taking the log of this expression we get\n",
    "\\begin{equation}\n",
    "\\ln P(\\mathbf{Q}, \\kappa, \\sigma, \\mathbf{\\Sigma} \\mid D, I) \\propto - (l\\cdot n + 1) \\ln \\sigma - \\frac{1}{2 \\sigma} \\sum_{i=1}^n \\sum_{j=1}^l\\left( fc_{exp}^{(ij)} -  fc_{thry}^{(ij)}\\right)^2 - \\frac{n}{2} \\lvert \\mathbf{\\Sigma} \\rvert - \\frac{1}{2} \\sum_{i=1}^n (\\mathbf{K}_i - \\mathbf{Q})^T \\mathbf{\\Sigma}^{-1} (\\mathbf{K}_i - \\mathbf{Q}) - \\sum_{i=1}^n \\left( \\ln \\epsilon_A^{(i)} + \\ln \\epsilon_I^{(i)} \\right) - \\ln \\epsilon_A^* - \\ln \\epsilon_I^* - \\ln \\sigma_A - \\ln \\sigma_I - \\ln \\sigma_{AI}.\n",
    "\\end{equation}"
   ]
  },
  {
   "cell_type": "markdown",
   "metadata": {},
   "source": [
    "Let's code up the functions to compute the theoretical fold-change"
   ]
  },
  {
   "cell_type": "code",
   "execution_count": 2,
   "metadata": {
    "collapsed": true
   },
   "outputs": [],
   "source": [
    "# define a funciton to compute the fold change as a funciton of IPTG\n",
    "def pact(IPTG, ea, ei, epsilon=4.5):\n",
    "    '''\n",
    "    Returns the probability of a repressor being active as described by the MWC\n",
    "    model.\n",
    "    Parameter\n",
    "    ---------\n",
    "    IPTG : array-like.\n",
    "        concentrations of inducer on which to evaluate the function\n",
    "    ea, ei : float.\n",
    "        minus log of the dissociation constants of the active and the inactive \n",
    "        states respectively\n",
    "    epsilon : float.\n",
    "        energy difference between the active and the inactive state\n",
    "    Returns\n",
    "    -------\n",
    "    pact : float.\n",
    "        probability of a repressor of being in the active state. Active state is\n",
    "        defined as the state that can bind to the DNA.\n",
    "    '''\n",
    "    pact = (1 + IPTG * np.exp(ea))**2 / \\\n",
    "    ((1 + IPTG * np.exp(ea))**2 + np.exp(-epsilon) * (1 + IPTG * np.exp(ei))**2)\n",
    "    return pact\n",
    "\n",
    "def fold_change(IPTG, ea, ei, epsilon, R, epsilon_r):\n",
    "    '''\n",
    "    Returns the gene expression fold change according to the thermodynamic model\n",
    "    with the extension that takes into account the effect of the inducer.\n",
    "    Parameter\n",
    "    ---------\n",
    "    IPTG : array-like.\n",
    "        concentrations of inducer on which to evaluate the function\n",
    "    ea, ei : float.\n",
    "        minus log of the dissociation constants of the active and the inactive \n",
    "        states respectively\n",
    "    epsilon : float.\n",
    "        energy difference between the active and the inactive state\n",
    "    R : array-like.\n",
    "        repressor copy number for each of the strains. The length of this array\n",
    "        should be equal to the IPTG array. If only one value of the repressor is\n",
    "        given it is asssume that all the data points should be evaluated with\n",
    "        the same repressor copy number\n",
    "    epsilon_r : array-like\n",
    "        repressor binding energy. The length of this array\n",
    "        should be equal to the IPTG array. If only one value of the binding\n",
    "        energy is given it is asssume that all the data points \n",
    "        should be evaluated with the same repressor copy number\n",
    "        \n",
    "    Returns\n",
    "    -------\n",
    "    fold-change : float.\n",
    "        gene expression fold change as dictated by the thermodynamic model.\n",
    "   '''\n",
    "    return 1 / (1 + 2 * R / 5E6 * pact(IPTG, ea, ei, epsilon) * \\\n",
    "            (1 + np.exp(-epsilon)) * np.exp(-epsilon_r))"
   ]
  },
  {
   "cell_type": "markdown",
   "metadata": {},
   "source": [
    "Now let's code each of the terms involved in the $\\log$ posterior"
   ]
  },
  {
   "cell_type": "code",
   "execution_count": null,
   "metadata": {
    "collapsed": true
   },
   "outputs": [],
   "source": [
    "def log_post(param, indep_var, dep_var):\n",
    "    '''\n",
    "    Computes the log posterior for a single set of parameters.\n",
    "    Parameters\n",
    "    ----------\n",
    "    param : list.\n",
    "        List containing all the parameters, i.e. dimensions on which the walkers\n",
    "        will walk through\n",
    "        param[0] : n x 2 array, where n = number of independent data sets.\n",
    "            first column = epsilon_A values for each data set\n",
    "            second column = epsilon_I values for each data set\n",
    "        param[1] : array-like.\n",
    "            2 x 1 array with epsilon_A^* and epsilon_I^* the most probable\n",
    "            values for the hyper parameters.\n",
    "        param[2] : array-like.\n",
    "            2 x 1 array with sigma_A and sigma_I the variance associated with\n",
    "            the hyper parameters.\n",
    "        param[3] : float.\n",
    "            covariance between epsilon_A^* and epsilon_I^*.\n",
    "        param[4] : float.\n",
    "            global sigma associated with the Gaussian likelihood.\n",
    "    indep_var : list.\n",
    "        List containing all the INDEPENDENT variables. The list must have\n",
    "        n elements, where n is the number of independent data sets. Each element\n",
    "        in the list must be a L x 3 array, where L is the number of IPTG \n",
    "        concentrations\n",
    "            1st column : IPTG concentrations\n",
    "            2nd column : repressor copy number\n",
    "            3rd column : repressor binding energy\n",
    "    dep_var : list.\n",
    "        List containing all the DEPENDENT variables. The list must have\n",
    "        n elements, where n is the number of independent data sets. Each element\n",
    "        in the list must be an array with L elements, where L is the number\n",
    "        of IPTG concentrations\n",
    "        \n",
    "    Returns\n",
    "    -------\n",
    "    log_post : float.\n",
    "        the log posterior probability\n",
    "    '''\n",
    "    # unpack parameters\n",
    "    kappa, Q_hyper, sigma_hyper, cov_hyper, sigma = param[0], param[1], \\\n",
    "                                                    param[2], param[3], sigma[4]\n",
    "    \n",
    "    # determine the number of experiments\n",
    "    n = len(kappa)\n",
    "    \n",
    "    # compute the theoretical fold change for each data set\n",
    "    fc_thry = list()\n",
    "    for i, data_set in enumerate(indep_var):\n",
    "        # unpack independent variables\n",
    "        IPTG, R, epsilon_r = data_set[:, 0], data_set[:, 1], data_set[:, 2]\n",
    "        # unpack the parameters epsilon_Ai and epsilon_Ii for this data set\n",
    "        ea, ei = kappa[i, :]\n",
    "        # compute the theoretical fold-change\n",
    "        fc_theory.append(fold_change(IPTG, ea, ei, 4.5, R, epsilon_r))"
   ]
  },
  {
   "cell_type": "markdown",
   "metadata": {},
   "source": [
    "# Testing the functions with only 1 strain and one operator \n",
    "\n",
    "Now it is time to test this! But first let's read the data"
   ]
  },
  {
   "cell_type": "code",
   "execution_count": 4,
   "metadata": {
    "collapsed": false
   },
   "outputs": [
    {
     "data": {
      "image/png": "[encoded data removed]",
      "text/plain": [
       "<matplotlib.figure.Figure at 0x10bff9b00>"
      ]
     },
     "metadata": {
      "image/png": {
       "height": 381,
       "width": 562
      }
     },
     "output_type": "display_data"
    }
   ],
   "source": [
    "#Load the data. \n",
    "data = pd.read_csv('../../data/mbl_2016/MBL_fc_data.csv')\n",
    "\n",
    "# Let's first try to do the regression using only one RBS and one operator\n",
    "rbs = data[(data.strain=='1027') & (data.epsilon_r==-13.9)]\n",
    "\n",
    "plt.figure()\n",
    "for date in rbs.date.unique():\n",
    "    plt.plot(rbs[rbs.date==date].IPTG, rbs[rbs.date==date].fold_change, 'o',\n",
    "            label=str(date))\n",
    "plt.xscale('log')\n",
    "plt.xlabel('[IPTG] (mM)')\n",
    "plt.ylabel('fold-change')\n",
    "plt.legend(loc='upper left')\n",
    "plt.tight_layout()"
   ]
  }
 ],
 "metadata": {
  "kernelspec": {
   "display_name": "Python 3",
   "language": "python",
   "name": "python3"
  },
  "language_info": {
   "codemirror_mode": {
    "name": "ipython",
    "version": 3
   },
   "file_extension": ".py",
   "mimetype": "text/x-python",
   "name": "python",
   "nbconvert_exporter": "python",
   "pygments_lexer": "ipython3",
   "version": "3.5.2"
  }
 },
 "nbformat": 4,
 "nbformat_minor": 0
}
