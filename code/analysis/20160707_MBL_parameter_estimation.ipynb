{
 "cells": [
  {
   "cell_type": "markdown",
   "metadata": {},
   "source": [
    "# Bayesian Parameter Estimation on MBL Data"
   ]
  },
  {
   "cell_type": "markdown",
   "metadata": {},
   "source": [
    "## July 7, 2016"
   ]
  },
  {
   "cell_type": "code",
   "execution_count": 4,
   "metadata": {
    "collapsed": false
   },
   "outputs": [
    {
     "name": "stderr",
     "output_type": "stream",
     "text": [
      "/Users/gchure/anaconda/lib/python3.4/site-packages/matplotlib/__init__.py:872: UserWarning: axes.color_cycle is deprecated and replaced with axes.prop_cycle; please use the latter.\n",
      "  warnings.warn(self.msg_depr % (key, alt_key))\n"
     ]
    }
   ],
   "source": [
    "import numpy as np\n",
    "import pandas as pd\n",
    "import emcee\n",
    "import scipy.special\n",
    "import matplotlib.pyplot as plt\n",
    "import matplotlib.cm as cm\n",
    "import warnings\n",
    "import seaborn as sns\n",
    "rc = {'lines.linewidth': 1.5,\n",
    "      'axes.labelsize' : 14,\n",
    "      'axes.titlesize' : 18,\n",
    "      'axes.facecolor' : 'EBEBEB',\n",
    "      'axes.edgecolor' : '000000',\n",
    "      'axes.linewidth' : 0.75,\n",
    "      'axes.frameon' : True,\n",
    "      'xtick.labelsize' : 11,\n",
    "      'ytick.labelsize' : 11,\n",
    "      'font.family' : 'Droid Sans',\n",
    "      'grid.linestyle' : ':',\n",
    "      'grid.color' : 'a6a6a6',\n",
    "      'mathtext.fontset' : 'stixsans',\n",
    "      'mathtext.sf' : 'sans'}\n",
    "plt.rc('text.latex', preamble=r'\\usepackage{sfmath}')\n",
    "plt.rc('mathtext', fontset='stixsans', sf='sans') \n",
    "sns.set_context('notebook', rc=rc)\n",
    "sns.set_style('darkgrid', rc=rc)\n",
    "sns.set_palette(\"deep\", color_codes=True)\n",
    "\n",
    "# Suppress future warnings\n",
    "warnings.simplefilter(action='ignore', category=FutureWarning)\n",
    "warnings.simplefilter(action='ignore', category=UserWarning)\n",
    "\n",
    "#------------------------------------------------------------------------------- \n",
    "%matplotlib notebook"
   ]
  },
  {
   "cell_type": "markdown",
   "metadata": {},
   "source": [
    "Our data consists of a set of fold-change in gene expression values from a set of experiments conducted at Woods Hole, MA at MBL Physiology. The purpose of this notebook is to perform a two-parameter fit on the active and inactive dissociation constants of the Lac repressor to DNA. Using Bayes' rule, we can say that\n",
    "\n",
    "$$\n",
    "\\begin{align}\n",
    "P(\\{a\\} \\vert D, I) &\\propto P(D \\vert \\{a\\}, I) P(\\{a\\} \\vert I) \\\\\n",
    "& \\propto P(D \\vert K_a, K_i, I) P(K_a \\vert I) P(K_i \\vert I)\n",
    "\\end{align}\n",
    "$$"
   ]
  },
  {
   "cell_type": "markdown",
   "metadata": {},
   "source": [
    "where $\\{a\\}$ is the set of dissociation constants for the active and inactive repressors ($K_a$ and $K_i$ repsectively), $D$ are our data, and $I$ is the prior information we have with regards to the system. Note that in this case we are considering that the two dissociation constants are independent parameters. This is probably not correct as it would make logical sense that the ability to bind inducer in the active vs inactive state uses a similar binding pocket and are therefore related. For now, it is not obvious how these two parameters are related mathematically, so we will treat them as completely independent. We can be more explicity with the functional form of our posterior as follows: "
   ]
  },
  {
   "cell_type": "markdown",
   "metadata": {},
   "source": [
    "$$\n",
    "P(K_a, K_i \\vert D, I) \\propto \\prod\\limits_{i=1}^N \\exp\\left\\{\\frac{fc_i - fc(R, \\Delta\\epsilon_r, K_a, K_i, \\epsilon_{ai}))^2}{\\sigma_i}\\right\\}\\frac{1}{K_a^{max},\n",
    "$$"
   ]
  },
  {
   "cell_type": "code",
   "execution_count": null,
   "metadata": {
    "collapsed": true
   },
   "outputs": [],
   "source": []
  }
 ],
 "metadata": {
  "kernelspec": {
   "display_name": "Python 3",
   "language": "python",
   "name": "python3"
  },
  "language_info": {
   "codemirror_mode": {
    "name": "ipython",
    "version": 3
   },
   "file_extension": ".py",
   "mimetype": "text/x-python",
   "name": "python",
   "nbconvert_exporter": "python",
   "pygments_lexer": "ipython3",
   "version": "3.4.4"
  }
 },
 "nbformat": 4,
 "nbformat_minor": 0
}
