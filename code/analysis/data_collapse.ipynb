{
 "cells": [
  {
   "cell_type": "markdown",
   "metadata": {},
   "source": [
    "# Data collapse"
   ]
  },
  {
   "cell_type": "code",
   "execution_count": 1,
   "metadata": {
    "collapsed": true
   },
   "outputs": [],
   "source": [
    "import os\n",
    "import glob\n",
    "# Our numerical workhorses\n",
    "import numpy as np\n",
    "import pandas as pd\n",
    "import scipy\n",
    "\n",
    "import mwc_induction_utils as mwc\n",
    "\n",
    "# Import matplotlib stuff for plotting\n",
    "import matplotlib.pyplot as plt\n",
    "import matplotlib.cm as cm\n",
    "\n",
    "# Seaborn, useful for graphics\n",
    "import seaborn as sns\n",
    "\n",
    "# favorite Seaborn settings for notebooks\n",
    "rc={'lines.linewidth': 2, \n",
    "    'axes.labelsize' : 16, \n",
    "    'axes.titlesize' : 18,\n",
    "    'axes.facecolor' : 'F4F3F6',\n",
    "    'axes.edgecolor' : '000000',\n",
    "    'axes.linewidth' : 1.2,\n",
    "    'xtick.labelsize' : 13,\n",
    "    'ytick.labelsize' : 13,\n",
    "    'grid.linestyle' : ':',\n",
    "    'grid.color' : 'a6a6a6'}\n",
    "sns.set_context('notebook', rc=rc)\n",
    "sns.set_style('darkgrid', rc=rc)\n",
    "sns.set_palette(\"deep\", color_codes=True)\n",
    "\n",
    "# Magic function to make matplotlib inline; other style specs must come AFTER\n",
    "%matplotlib inline\n",
    "\n",
    "# This enables SVG graphics inline (only use with static plots (non-Bokeh))\n",
    "%config InlineBackend.figure_format = 'svg'"
   ]
  },
  {
   "cell_type": "markdown",
   "metadata": {},
   "source": [
    "## The Bohr parameter.\n",
    "\n",
    "For the *lac* repressor we know that the fold-change in gene expression is given by\n",
    "\\begin{equation}\n",
    "\\text{fold-change}(C) = \\left( 1 + \\frac{2R}{N_{NS}} \\cdot p_{act}(C) \\cdot e^{-\\beta \\Delta \\epsilon_r} \\right)^{-1},\n",
    "\\end{equation}\n",
    "where $R$ is the number of repressors, $N_{NS}$ is the number of non-specific sites to which the repressor can bind, $\\Delta \\epsilon_r$ is the binding energy of the repressor to the DNA binding site, $\\beta$ is the inverse Boltzmann constant times the temperature, and $p_{act}$ is the probability of the repressor being active given a concentration of inducer $C$.\n",
    "\n",
    "The functional form of this $p_{act}$ is given by the MWC model as\n",
    "\\begin{equation}\n",
    "p_{act}(C) = \\frac{\\left( 1 + \\frac{C}{K_A} \\right)^2}{\\left( 1 + \\frac{C}{K_A} \\right)^2 + e^{-\\beta \\Delta \\epsilon}\\left( 1 + \\frac{C}{K_I} \\right)^2},\n",
    "\\end{equation}\n",
    "where $K_A$ and $K_I$ are the dissociation constants of the repressor in the active and inactive state respectively and $\\Delta \\epsilon$ is the energetic difference between these two states. For the specific case of the *lac* repressor we have that $K_A \\geq K_I$ and $\\Delta \\epsilon \\geq 0$."
   ]
  },
  {
   "cell_type": "markdown",
   "metadata": {},
   "source": [
    "To isolate the effect of the thermodynamic parameters we can re-write the fold-change equation as a Fermi potential, i.e.\n",
    "\\begin{equation}\n",
    "\\text{fold-change} = \\frac{1}{1 + e^{-\\beta F(C)}},\n",
    "\\end{equation}\n",
    "where we have introduced the *Bohr parameter*,\n",
    "\\begin{equation}\n",
    "F(C) \\equiv -k_BT \\log \\left( \\frac{\\left( 1 + \\frac{C}{K_A} \\right)^2}{\\left( 1 + \\frac{C}{K_A} \\right)^2 + e^{-\\beta \\Delta \\epsilon}\\left( 1 + \\frac{C}{K_I} \\right)^2} \\cdot \\frac{2R}{N_{NS}}e^{-\\beta \\Delta \\epsilon_r} \\right).\n",
    "\\end{equation}\n",
    "\n",
    "Let's now go ahead and fit "
   ]
  },
  {
   "cell_type": "code",
   "execution_count": null,
   "metadata": {
    "collapsed": true
   },
   "outputs": [],
   "source": []
  }
 ],
 "metadata": {
  "kernelspec": {
   "display_name": "Python 3",
   "language": "python",
   "name": "python3"
  },
  "language_info": {
   "codemirror_mode": {
    "name": "ipython",
    "version": 3
   },
   "file_extension": ".py",
   "mimetype": "text/x-python",
   "name": "python",
   "nbconvert_exporter": "python",
   "pygments_lexer": "ipython3",
   "version": "3.5.2"
  }
 },
 "nbformat": 4,
 "nbformat_minor": 0
}
